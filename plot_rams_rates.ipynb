{
 "cells": [
  {
   "cell_type": "code",
   "execution_count": 1,
   "metadata": {},
   "outputs": [
    {
     "data": {
      "image/png": "[encoded data removed]",
      "text/plain": [
       "<Figure size 640x480 with 1 Axes>"
      ]
     },
     "metadata": {},
     "output_type": "display_data"
    }
   ],
   "source": [
    "import sys\n",
    "import os\n",
    "sys.path.insert(0, os.path.abspath('./'))\n",
    "\n",
    "\n",
    "import numpy as np\n",
    "import matplotlib.pyplot as plt\n",
    "import scipy.special\n",
    "import h5py\n",
    "#import seaborn as sns\n",
    "import scipy.stats as stats\n",
    "import datetime\n",
    "import xarray as xr\n",
    "\n",
    "import dsd_helper_functions as dfunc\n",
    "import Config\n",
    "\n",
    "import pickle\n",
    "\n",
    "cfg = Config.Config('simulation_settings_vsense.yaml')\n",
    "ycfg = cfg.v\n",
    "\n",
    "import oa_stats as oa\n",
    "import analysis_tools as AT\n",
    "\n",
    "\n",
    "%matplotlib inline\n",
    "\n",
    "%load_ext autoreload\n",
    "%autoreload 2\n",
    "\n",
    "plt.rcParams.update({'font.size': 18})\n",
    "\n"
   ]
  },
  {
   "cell_type": "code",
   "execution_count": 2,
   "metadata": {},
   "outputs": [],
   "source": [
    "def read_Rams(varname,filename):\n",
    "\n",
    "    # arguments\n",
    "    # varname: RAMS variable name, All CAPS\n",
    "    # filename: pathname and filename of RAMS .h5 file\n",
    "    # returns correctly reshaped data for 2D and 3D rams variables\n",
    "\n",
    "    # get 3D dimension of RAMS file\n",
    "    hf = h5py.File(filename,'r')\n",
    "\n",
    "    # reshape RAMS 2D and 3D data of interest\n",
    "    data = hf[varname]\n",
    "    np_data = np.array(data)\n",
    "    data_out=np_data\n",
    "    \n",
    "    return data_out "
   ]
  },
  {
   "cell_type": "code",
   "execution_count": 3,
   "metadata": {},
   "outputs": [],
   "source": [
    "nu='04'"
   ]
  },
  {
   "cell_type": "code",
   "execution_count": 4,
   "metadata": {},
   "outputs": [
    {
     "data": {
      "text/plain": [
       "'supercell-grant-hires-gnu04-g1-diam.h5'"
      ]
     },
     "execution_count": 4,
     "metadata": {},
     "output_type": "execute_result"
    }
   ],
   "source": [
    "ycfg['sims']['supercell_nu4']['diam_file']"
   ]
  },
  {
   "cell_type": "code",
   "execution_count": 15,
   "metadata": {},
   "outputs": [],
   "source": [
    "def get_rams_datagroups(exper,rthresh=0.9,mu=0.0):\n",
    "    alldsd = pickle.load(open('ramsworld3_dsd_mass.p','rb')) \n",
    "    mydir = \"./\"\n",
    "    rfile =ycfg['sims'][exper]['rain_file']\n",
    "    dfile =ycfg['sims'][exper]['diam_file']\n",
    "    ddir = ycfg['sims'][exper]['dirnam']\n",
    "    print(dfile)\n",
    "    sim_cfg = ycfg['sims'][exper]\n",
    "    nu = sim_cfg['nu']\n",
    "    if nu != 'bin':\n",
    "        nu = int(nu)\n",
    "        mu = nu-1\n",
    "    else:\n",
    "        mu = mu\n",
    "    tskip = 1#Add a value to skip times to make similar number of points to obs\n",
    "    hskip = 1#Add a horizontal skip value to make similar number o points to obs\n",
    "    print(f\"working on {exper}\",rfile)\n",
    "    data = xr.open_dataset(f'{mydir}DOE.MICRO-simulations/{ddir}/{rfile}',engine='h5netcdf')\n",
    "    print(f'DOE.MICRO-simulations/{ddir}/{dfile}')\n",
    "    diam = xr.open_dataset(f'{mydir}DOE.MICRO-simulations/{ddir}/{dfile}')\n",
    "    tms = []\n",
    "    tt=0\n",
    "    for t,r in enumerate(data['t_coords'][::tskip].values):\n",
    "        tt=tt+tskip\n",
    "        tms.append(tt)\n",
    "\n",
    "    \n",
    "    if mu != 0.0:\n",
    "        \n",
    "        filtered_rain_dsd_dict = dfunc.format_subsample_dsd_data_diam(data,diam, nu=mu, tskip=tskip, hskip=hskip,d3=False)\n",
    "    else:\n",
    "        filtered_rain_dsd_dict = dfunc.format_subsample_dsd_data_diam(data,diam, nu=mu, tskip=tskip, hskip=hskip,d3=False)\n",
    "\n",
    "    blank = np.zeros((filtered_rain_dsd_dict['shp'][0],filtered_rain_dsd_dict['shp'][1],filtered_rain_dsd_dict['shp'][2]))\n",
    "\n",
    "    ramr =np.ravel(np.zeros_like(blank))\n",
    "    ramr[filtered_rain_dsd_dict['whgd']]=filtered_rain_dsd_dict['rrr']\n",
    "    ramrr = np.reshape(ramr,filtered_rain_dsd_dict['shp'])\n",
    "\n",
    "    ramn =np.ravel(np.zeros_like(blank))\n",
    "    ramn[filtered_rain_dsd_dict['whgd']]=filtered_rain_dsd_dict['nww']\n",
    "    ramnw = np.reshape(ramn,filtered_rain_dsd_dict['shp'])\n",
    "\n",
    "    ramd =np.ravel(np.zeros_like(blank))\n",
    "    ramd[filtered_rain_dsd_dict['whgd']]=filtered_rain_dsd_dict['d00']\n",
    "    ramd0 = np.reshape(ramd,filtered_rain_dsd_dict['shp'])\n",
    "\n",
    "    blankr=np.ravel(blank)\n",
    "    blankb = blankr[filtered_rain_dsd_dict['whgd']]\n",
    "    \n",
    "    good_vars = ['nww', 'dmm', 'sigm', 'llwc', 'lrr', 'lnt']\n",
    "\n",
    "    labels = [ycfg['vars'][_]['label'] for _ in good_vars]\n",
    "    pc1sea, pc2sea = oa.get_eof_cast(filtered_rain_dsd_dict,alldsd,good_vars)\n",
    "\n",
    "    ramsgroups1 = dfunc.get_groups(pc1sea,pc2sea,rthresh,rthresh,rthresh,rthresh)\n",
    "    ramsvals1 = dfunc.make_groups(pc1sea,ramsgroups1)\n",
    "\n",
    "\n",
    "    ramvals2dr =np.ravel(np.zeros_like(blank))*np.nan\n",
    "    ramvals2dr[filtered_rain_dsd_dict['whgd']]=ramsvals1\n",
    "    ramvals2d = np.reshape(ramvals2dr,filtered_rain_dsd_dict['shp'])\n",
    "    \n",
    "\n",
    "\n",
    "    return data, tms, ramvals2d, pc1sea,pc2sea,filtered_rain_dsd_dict,ramsgroups1\n"
   ]
  },
  {
   "cell_type": "code",
   "execution_count": 16,
   "metadata": {},
   "outputs": [
    {
     "name": "stdout",
     "output_type": "stream",
     "text": [
      "supercell-grant-hires-gnu04-g1-diam.h5\n",
      "working on supercell_nu4 supercell-grant-hires-gnu04-g1-rain.h5\n",
      "DOE.MICRO-simulations/h5e.supercell.grant.hires.gnu04.300dx/supercell-grant-hires-gnu04-g1-diam.h5\n",
      "npshape d0d (37, 750, 950)\n",
      "d3 is  False\n",
      "rr shape (37, 750, 950)\n",
      "(37, 750, 950)\n",
      "0.0\n"
     ]
    }
   ],
   "source": [
    "data, tms, ramvals2d, pc1sea,pc2sea,filtered_rain_dsd_dict,ramsgroups1= get_rams_datagroups('supercell_nu4')"
   ]
  },
  {
   "cell_type": "code",
   "execution_count": 49,
   "metadata": {},
   "outputs": [],
   "source": [
    "fig_dir = './FINAL/'"
   ]
  },
  {
   "cell_type": "code",
   "execution_count": 18,
   "metadata": {},
   "outputs": [],
   "source": [
    "#Read in the Global Simulation mass-spectrum DSD data\n",
    "alldsd = pickle.load(open(\"ramsworld3_dsd_mass.p\",'rb'))"
   ]
  },
  {
   "cell_type": "code",
   "execution_count": 19,
   "metadata": {},
   "outputs": [],
   "source": [
    "#THis is needed in order to preserve the 3D nature of the PCA and Groups.\n",
    "blank = np.zeros((filtered_rain_dsd_dict['shp'][0],filtered_rain_dsd_dict['shp'][1],filtered_rain_dsd_dict['shp'][2]))"
   ]
  },
  {
   "cell_type": "code",
   "execution_count": 20,
   "metadata": {},
   "outputs": [
    {
     "data": {
      "text/plain": [
       "{'nww': 3.0016983,\n",
       " 'dmm': 1.2266015,\n",
       " 'sigm': 0.5483383,\n",
       " 'llwc': -1.6802962,\n",
       " 'lrr': -0.53433484,\n",
       " 'lnt': 2.1683908}"
      ]
     },
     "execution_count": 20,
     "metadata": {},
     "output_type": "execute_result"
    }
   ],
   "source": [
    "#Print the world averages\n",
    "alldsd.averages"
   ]
  },
  {
   "cell_type": "code",
   "execution_count": 21,
   "metadata": {},
   "outputs": [],
   "source": [
    "import oa_stats as oa\n",
    "good_vars = ['nww', 'dmm', 'sigm', 'llwc', 'lrr', 'lnt']\n",
    "labels = [ycfg['vars'][_]['label'] for _ in good_vars]\n",
    "\n",
    "#Here we send the data to the EOF but cast it into the PCs of the global simulations EOF\n",
    "pc1sea, pc2sea = oa.get_eof_cast(filtered_rain_dsd_dict,alldsd,good_vars)\n",
    "\n",
    "\n"
   ]
  },
  {
   "cell_type": "code",
   "execution_count": 22,
   "metadata": {},
   "outputs": [],
   "source": [
    "#Set the threshold for determining the groups\n",
    "rthresh=0.9\n",
    "seagroups = dfunc.get_groups(pc1sea,pc2sea,rthresh,rthresh,rthresh,rthresh)\n",
    "seagroupvals = dfunc.make_groups(pc1sea,seagroups)\n",
    "\n"
   ]
  },
  {
   "cell_type": "code",
   "execution_count": 23,
   "metadata": {},
   "outputs": [],
   "source": [
    "#Now setup the 3D PC values\n",
    "\n",
    "pc1=np.zeros_like(blank)*np.nan\n",
    "pc2 = np.zeros_like(blank)*np.nan\n",
    "\n",
    "pc1r =np.ravel(pc1)\n",
    "pc1r[filtered_rain_dsd_dict['whgd']]=pc1sea\n",
    "pc1 = np.reshape(pc1r,filtered_rain_dsd_dict['shp'])\n",
    "\n",
    "pc2r =np.ravel(pc2)\n",
    "pc2r[filtered_rain_dsd_dict['whgd']]=pc1sea\n",
    "pc2 = np.reshape(pc2r,filtered_rain_dsd_dict['shp'])"
   ]
  },
  {
   "cell_type": "code",
   "execution_count": 24,
   "metadata": {},
   "outputs": [],
   "source": [
    "\n",
    "#Get the groups for the RAMS global simulations\n",
    "ramsgroups1 = dfunc.get_groups(pc1sea,pc2sea,rthresh,rthresh,rthresh,rthresh)\n",
    "ramsvals1 = dfunc.make_groups(pc1sea,ramsgroups1)\n",
    "\n",
    "\n"
   ]
  },
  {
   "cell_type": "code",
   "execution_count": 25,
   "metadata": {},
   "outputs": [],
   "source": [
    "#Reformulate into the 3D\n",
    "\n",
    "ramvals2dr =np.ravel(np.zeros_like(blank))*np.nan\n",
    "ramvals2dr[filtered_rain_dsd_dict['whgd']]=ramsvals1\n",
    "ramvals2d = np.reshape(ramvals2dr,filtered_rain_dsd_dict['shp'])\n",
    "\n",
    "\n"
   ]
  },
  {
   "cell_type": "code",
   "execution_count": 26,
   "metadata": {},
   "outputs": [],
   "source": [
    "from matplotlib import colors\n",
    "import matplotlib as mpl\n",
    "import os\n",
    "import argparse\n",
    "import time\n",
    "from matplotlib.colors import LogNorm\n",
    "\n",
    "cols=['gray','r','g','gold','blue','orange','purple']\n",
    "pcacol = colors.ListedColormap(cols)\n",
    "\n",
    "def adjust_fhc_colorbar_for_pyart(cb):\n",
    "    cb.set_ticks(np.arange(0.4, 7.4, 1.0))\n",
    "    cb.ax.set_yticklabels(['Amb','Group1', 'Group2', 'Group3', 'Group4',\n",
    "                           'Group5', 'Group6'])\n",
    "    cb.ax.set_ylabel('')\n",
    "    cb.ax.tick_params(length=0)\n",
    "    return cb\n",
    "\n",
    "\n"
   ]
  },
  {
   "cell_type": "code",
   "execution_count": 31,
   "metadata": {},
   "outputs": [],
   "source": [
    "def get_vars(process_vars,nu,ramvals):\n",
    "    whga = np.where(ramvals== 0)\n",
    "    whg1 = np.where(ramvals == 1)\n",
    "    whg2 = np.where(ramvals == 2)\n",
    "    whg3 = np.where(ramvals == 3)\n",
    "    whg4 = np.where(ramvals == 4)\n",
    "    whg5 = np.where(ramvals == 5)\n",
    "    whg6 = np.where(ramvals == 6)\n",
    "    whg = np.where(ramvals >-1)\n",
    "    groups = {'group1':whg1,\n",
    "              'group2':whg2,\n",
    "              'group3':whg3,\n",
    "              'group4':whg4,\n",
    "              'group5':whg5,\n",
    "              'group6':whg6,\n",
    "              'groupA':whga,\n",
    "              'ALL':whg}\n",
    "    \n",
    "    typedat = {}\n",
    "    mynewdir = './'\n",
    "    rime_vars = ['vt_rain2prt','vt_rain2snt','vt_rain2agt','vt_rain2grt','vt_rain2hat']\n",
    "    for rv in rime_vars:\n",
    "        dat = read_Rams(rv,f'{mynewdir}supercell-grant-hires-gnu{nu}-300dx-g1-vt_rime.h5')\n",
    "        gdat={}\n",
    "        for g in groups.keys():\n",
    "            whg = groups[g]\n",
    "            datsum = (((np.sum(dat[whg]))/1000)/977)\n",
    "            gdat[g]=datsum\n",
    "        typedat[rv]=gdat\n",
    "        \n",
    "    super_vars = ['vt_cld2raint','vt_ice2raint']\n",
    "    for rv in super_vars:\n",
    "        dat = read_Rams(rv,f'{mynewdir}supercell-grant-hires-gnu{nu}-300dx-g1-extra1.h5')\n",
    "        gdat={}\n",
    "        for g in groups.keys():\n",
    "            whg = groups[g]\n",
    "            datsum = (((np.sum(dat[whg]))/1000)/977)\n",
    "            gdat[g]=datsum\n",
    "        typedat[rv]=gdat\n",
    "\n",
    "    vap_vars = ['vt_vapraint']\n",
    "    for rv in vap_vars:\n",
    "        dat = read_Rams(rv,f'{mynewdir}supercell-grant-hires-gnu{nu}-300dx-g1-vt_vapor.h5')\n",
    "        gdat={}\n",
    "        for g in groups.keys():\n",
    "            whg = groups[g]\n",
    "            datsum = (((np.sum(dat[whg]))/1000)/977)\n",
    "            gdat[g]=datsum\n",
    "        typedat[rv]=gdat\n",
    "\n",
    "    melt_vars = ['vt_meltsnowt','vt_meltaggrt','vt_meltgraut','vt_melthailt']\n",
    "    for rv in melt_vars:\n",
    "        print(rv)\n",
    "        dat = read_Rams(rv,f'supercell-grant-hires-gnu{nu}-300dx-g1-vt_melt.h5')\n",
    "        gdat={}\n",
    "        for g in groups.keys():\n",
    "            whg = groups[g]\n",
    "            datsum = (((np.sum(dat[whg]))/1000)/977)\n",
    "            gdat[g]=datsum\n",
    "        typedat[rv]=gdat\n",
    "    return typedat\n"
   ]
  },
  {
   "cell_type": "code",
   "execution_count": 32,
   "metadata": {},
   "outputs": [],
   "source": [
    "process_vars = ['vt_rain2prt','vt_rain2snt','vt_rain2agt','vt_rain2grt','vt_rain2hat','vt_cld2raint','vt_vapraint'\n",
    "               'vt_ice2raint','vt_meltsnowt','vt_meltaggrt','vt_meltgraut','vt_melthailt']\n",
    "\n"
   ]
  },
  {
   "cell_type": "code",
   "execution_count": 33,
   "metadata": {},
   "outputs": [
    {
     "name": "stdout",
     "output_type": "stream",
     "text": [
      "vt_meltsnowt\n",
      "vt_meltaggrt\n",
      "vt_meltgraut\n",
      "vt_melthailt\n"
     ]
    }
   ],
   "source": [
    "gnu1 = get_vars(process_vars,nu,ramvals2d)\n"
   ]
  },
  {
   "cell_type": "code",
   "execution_count": 34,
   "metadata": {},
   "outputs": [
    {
     "name": "stdout",
     "output_type": "stream",
     "text": [
      "vt_rain2prt\n",
      "vt_rain2snt\n",
      "vt_rain2agt\n",
      "vt_rain2grt\n",
      "vt_rain2hat\n",
      "vt_cld2raint\n",
      "vt_ice2raint\n",
      "vt_vapraint\n",
      "vt_meltsnowt\n",
      "vt_meltaggrt\n",
      "vt_meltgraut\n",
      "vt_melthailt\n"
     ]
    }
   ],
   "source": [
    "for r in gnu1.keys():\n",
    "    print(r)"
   ]
  },
  {
   "cell_type": "code",
   "execution_count": 35,
   "metadata": {},
   "outputs": [],
   "source": [
    "#sink\n",
    "xlabes = ['ALL','group1','group2','group3','group4','group5','group6']\n",
    "\n",
    "#sink\n",
    "#sinklabs = ['vt_vapraint','vt_rain2prt','vt_rain2snt','vt_rain2agt','vt_rain2grt','vt_rain2hat']\n",
    "vaprain = []\n",
    "rime_rain_pr = []\n",
    "rime_rain_sn = []\n",
    "rime_rain_ag = []\n",
    "rime_rain_gr = []\n",
    "rime_rain_ha = []\n",
    "\n",
    "#sourcelabs\n",
    "cld2rain = []\n",
    "meltsnowt= []\n",
    "meltaggt = []\n",
    "meltgraut = []\n",
    "melthailt = []\n",
    "ice2rain = []\n",
    "vaprain = []\n",
    "\n",
    "\n",
    "for x in xlabes:\n",
    "#sinks\n",
    "    vaprain.append(gnu1['vt_vapraint'][x]*-1)\n",
    "    rime_rain_pr.append(gnu1['vt_rain2prt'][x])\n",
    "    rime_rain_sn.append(gnu1['vt_rain2snt'][x])\n",
    "    rime_rain_ag.append(gnu1['vt_rain2agt'][x])\n",
    "    rime_rain_gr.append(gnu1['vt_rain2grt'][x])\n",
    "    rime_rain_ha.append(gnu1['vt_rain2hat'][x])\n",
    "    \n",
    "    \n",
    "    \n",
    "#source\n",
    "    cld2rain.append(gnu1['vt_cld2raint'][x])\n",
    "    meltsnowt.append(gnu1['vt_meltsnowt'][x])\n",
    "    meltaggt.append(gnu1['vt_meltaggrt'][x])\n",
    "    meltgraut.append(gnu1['vt_meltgraut'][x])\n",
    "    melthailt.append(gnu1['vt_melthailt'][x])\n",
    "    ice2rain.append(gnu1['vt_ice2raint'][x])\n",
    "    \n",
    "    \n",
    "\n",
    "    \n",
    "    "
   ]
  },
  {
   "cell_type": "code",
   "execution_count": 36,
   "metadata": {},
   "outputs": [],
   "source": [
    "#GAther all the sources and sinks for each group\n",
    "#Sources: Cloud to Rain, Melt Snow, Melt Aggregates, Melt Graupel, Melt Hail, Ice to Rain\n",
    "#Sinks: Rain to Vapor, Rain to Rime Pristine crystals, Rain to Rime Snow, Rain to Rime Aggregates, \n",
    "#       Rain to Rime Graupel, Rain to Rime Hail\n",
    "\n",
    "all_source=(cld2rain[0],meltsnowt[0],meltaggt[0],\n",
    "         meltgraut[0],melthailt[0],ice2rain[0])\n",
    "all_sinks = ((vaprain[0]),rime_rain_pr[0],rime_rain_sn[0],\n",
    "             rime_rain_ag[0],rime_rain_gr[0],rime_rain_ha[0])\n",
    "\n",
    "all_total=np.sum(all_source)-np.sum(all_sinks)\n",
    "\n",
    "f=1\n",
    "g1_source=(cld2rain[f]+meltsnowt[f]+meltaggt[f]+\n",
    "         meltgraut[f]+melthailt[f]+ice2rain[f])\n",
    "g1_sink = ((vaprain[f])+rime_rain_pr[f]+rime_rain_sn[f]\n",
    "            +rime_rain_ag[f]+rime_rain_gr[f]+rime_rain_ha[f])\n",
    "g1_total=g1_source-g1_sink\n",
    "\n",
    "f=2\n",
    "g2_source=(cld2rain[f]+meltsnowt[f]+meltaggt[f]+\n",
    "         meltgraut[f]+melthailt[f]+ice2rain[f])\n",
    "g2_sink = ((vaprain[f])+rime_rain_pr[f]+rime_rain_sn[f]\n",
    "          +rime_rain_ag[f]+rime_rain_gr[f]+rime_rain_ha[f])\n",
    "g2_total=g2_source-g2_sink\n",
    "\n",
    "f=3\n",
    "g3_source=(cld2rain[f]+meltsnowt[f]+meltaggt[f]+\n",
    "         meltgraut[f]+melthailt[f]+ice2rain[f])\n",
    "g3_sink = ((vaprain[f])+rime_rain_pr[f]+rime_rain_sn[f]\n",
    "            +rime_rain_ag[f]+rime_rain_gr[f]+rime_rain_ha[f])\n",
    "g3_total=g3_source-g3_sink\n",
    "\n",
    "f=4\n",
    "g4_source=(cld2rain[f]+meltsnowt[f]+meltaggt[f]+\n",
    "         meltgraut[f]+melthailt[f]+ice2rain[f])\n",
    "g4_sink = ((vaprain[f])+rime_rain_pr[f]+rime_rain_sn[f]\n",
    "            +rime_rain_ag[f]+rime_rain_gr[f]+rime_rain_ha[f])\n",
    "g4_total=g4_source-g4_sink\n",
    "\n",
    "f=5\n",
    "g5_source=(cld2rain[f]+meltsnowt[f]+meltaggt[f]+\n",
    "         meltgraut[f]+melthailt[f]+ice2rain[f])\n",
    "g5_sink = ((vaprain[f])+rime_rain_pr[f]+rime_rain_sn[f]\n",
    "            +rime_rain_ag[f]+rime_rain_gr[f]+rime_rain_ha[f])\n",
    "g5_total=g5_source-g5_sink\n",
    "\n",
    "\n",
    "f=6\n",
    "g6_source=(cld2rain[f]+meltsnowt[f]+meltaggt[f]+\n",
    "         meltgraut[f]+melthailt[f]+ice2rain[f])\n",
    "g6_sink = ((vaprain[f])+rime_rain_pr[f]+rime_rain_sn[f]\n",
    "            +rime_rain_ag[f]+rime_rain_gr[f]+rime_rain_ha[f])\n",
    "g6_total=g6_source-g6_sink\n",
    "\n",
    "\n",
    "\n",
    "group_source = np.array([np.sum(all_source),g1_source,g2_source,g3_source,g4_source,g5_source,g6_source])\n",
    "group_sink = np.array([np.sum(all_sinks),g1_sink,g2_sink,g3_sink,g4_sink,g5_sink,g6_sink])\n",
    "\n",
    "\n"
   ]
  },
  {
   "cell_type": "code",
   "execution_count": 37,
   "metadata": {},
   "outputs": [
    {
     "name": "stdout",
     "output_type": "stream",
     "text": [
      "3.052361781047091\n",
      "1.7172927808341862\n",
      "1.3350690002129046\n"
     ]
    }
   ],
   "source": [
    "print(np.sum(all_source))\n",
    "print(np.sum(all_sinks))\n",
    "print(np.sum(all_source)-np.sum(all_sinks))"
   ]
  },
  {
   "cell_type": "code",
   "execution_count": 38,
   "metadata": {},
   "outputs": [],
   "source": [
    "group_total = group_source-group_sink\n",
    "# print(np.shape(group_total))\n",
    "# np.insert(0,group_total,all_total)"
   ]
  },
  {
   "cell_type": "code",
   "execution_count": 39,
   "metadata": {},
   "outputs": [
    {
     "name": "stdout",
     "output_type": "stream",
     "text": [
      "[1.335069   0.90727006 0.00867295 0.0328077  0.04450999 0.2159021\n",
      " 0.10140632]\n",
      "1.3350690002129046\n"
     ]
    }
   ],
   "source": [
    "print(group_total)\n",
    "print(all_total)"
   ]
  },
  {
   "cell_type": "code",
   "execution_count": 40,
   "metadata": {},
   "outputs": [],
   "source": [
    "totals = [all_total,g1_total,g2_total,g3_total,g4_total,g5_total,g6_total]\n"
   ]
  },
  {
   "cell_type": "code",
   "execution_count": 41,
   "metadata": {},
   "outputs": [
    {
     "name": "stdout",
     "output_type": "stream",
     "text": [
      "04\n"
     ]
    }
   ],
   "source": [
    "print(nu)"
   ]
  },
  {
   "cell_type": "code",
   "execution_count": null,
   "metadata": {},
   "outputs": [],
   "source": []
  },
  {
   "cell_type": "code",
   "execution_count": 42,
   "metadata": {},
   "outputs": [],
   "source": [
    "#Group the data into Warm processes and Cold proceeses\n",
    "#GAther all the sources and sinks for each group\n",
    "#Warm Sources: Cloud to Rain, \n",
    "#Cold Sources: Melt Snow, Melt Aggregates, Melt Graupel, Melt Hail, Ice to Rain\n",
    "#Warm Sinks: Rain to Vapor, \n",
    "#Cold Sinks: Rain to Rime Pristine crystals, Rain to Rime Snow, Rain to Rime Aggregates, \n",
    "#       Rain to Rime Graupel, Rain to Rime Hail\n",
    "\n",
    "all_sourceW=(cld2rain[0])\n",
    "all_sinksW = (vaprain[0])\n",
    "\n",
    "\n",
    "all_sourceC=(meltsnowt[0],meltaggt[0],\n",
    "         meltgraut[0],melthailt[0],ice2rain[0])\n",
    "all_sinksC = (rime_rain_pr[0],rime_rain_sn[0],\n",
    "             rime_rain_ag[0],rime_rain_gr[0],rime_rain_ha[0])\n",
    "\n",
    "\n",
    "all_totalW=np.sum(all_sourceW)-np.sum(all_sinksW)\n",
    "all_totalC=np.sum(all_sourceC)-np.sum(all_sinksC)\n",
    "\n",
    "f=1\n",
    "g1_sourceW=(cld2rain[f])\n",
    "g1_sinkW = ((vaprain[f]))\n",
    "g1_totalW=g1_sourceW-g1_sinkW\n",
    "\n",
    "g1_sourceC=(meltsnowt[f]+meltaggt[f]+\n",
    "         meltgraut[f]+melthailt[f]+ice2rain[f])\n",
    "g1_sinkC = (rime_rain_pr[f]+rime_rain_sn[f]\n",
    "            +rime_rain_ag[f]+rime_rain_gr[f]+rime_rain_ha[f])\n",
    "g1_totalC=g1_sourceC-g1_sinkC\n",
    "\n",
    "\n",
    "\n",
    "f=2\n",
    "g2_sourceW=(cld2rain[f])\n",
    "g2_sinkW = ((vaprain[f]))\n",
    "g2_totalW=g2_sourceW-g2_sinkW\n",
    "\n",
    "g2_sourceC=(meltsnowt[f]+meltaggt[f]+\n",
    "       meltgraut[f]+melthailt[f]+ice2rain[f])\n",
    "g2_sinkC = (rime_rain_pr[f]+rime_rain_sn[f]\n",
    "            +rime_rain_ag[f]+rime_rain_gr[f]+rime_rain_ha[f])\n",
    "g2_totalC=g2_sourceC-g2_sinkC\n",
    "\n",
    "\n",
    "f=3\n",
    "g3_sourceW=(cld2rain[f])\n",
    "g3_sinkW = ((vaprain[f]))\n",
    "g3_totalW=g3_sourceW-g3_sinkW\n",
    "\n",
    "g3_sourceC=(meltsnowt[f]+meltaggt[f]+\n",
    "         meltgraut[f]+melthailt[f]+ice2rain[f])\n",
    "g3_sinkC = (rime_rain_pr[f]+rime_rain_sn[f]\n",
    "            +rime_rain_ag[f]+rime_rain_gr[f]+rime_rain_ha[f])\n",
    "g3_totalC=g3_sourceC-g3_sinkC\n",
    "\n",
    "\n",
    "f=4\n",
    "g4_sourceW=(cld2rain[f])\n",
    "g4_sinkW = ((vaprain[f]))\n",
    "g4_totalW=g4_sourceW-g4_sinkW\n",
    "\n",
    "g4_sourceC=(meltsnowt[f]+meltaggt[f]+\n",
    "       meltgraut[f]+melthailt[f]+ice2rain[f])\n",
    "g4_sinkC = (rime_rain_pr[f]+rime_rain_sn[f]\n",
    "            +rime_rain_ag[f]+rime_rain_gr[f]+rime_rain_ha[f])\n",
    "g4_totalC=g4_sourceC-g4_sinkC\n",
    "\n",
    "f=5\n",
    "g5_sourceW=(cld2rain[f])\n",
    "g5_sinkW = ((vaprain[f]))\n",
    "g5_totalW=g5_sourceW-g5_sinkW\n",
    "\n",
    "g5_sourceC=(meltsnowt[f]+meltaggt[f]+\n",
    "         meltgraut[f]+melthailt[f]+ice2rain[f])\n",
    "g5_sinkC = (rime_rain_pr[f]+rime_rain_sn[f]\n",
    "            +rime_rain_ag[f]+rime_rain_gr[f]+rime_rain_ha[f])\n",
    "g5_totalC=g5_sourceC-g5_sinkC\n",
    "\n",
    "f=6\n",
    "g6_sourceW=(cld2rain[f])\n",
    "g6_sinkW = ((vaprain[f]))\n",
    "g6_totalW=g6_sourceW-g6_sinkW\n",
    "\n",
    "g6_sourceC=(meltsnowt[f]+meltaggt[f]+\n",
    "         meltgraut[f]+melthailt[f]+ice2rain[f])\n",
    "g6_sinkC = (rime_rain_pr[f]+rime_rain_sn[f]\n",
    "            +rime_rain_ag[f]+rime_rain_gr[f]+rime_rain_ha[f])\n",
    "g6_totalC=g6_sourceC-g6_sinkC\n",
    "\n",
    "\n",
    "\n",
    "\n",
    "\n",
    "group_source = np.array([np.sum(all_source),g1_source,g2_source,g3_source,g4_source,g5_source,g6_source])\n",
    "group_sink = np.array([np.sum(all_sinks),g1_sink,g2_sink,g3_sink,g4_sink,g5_sink,g6_sink])\n",
    "\n",
    "\n"
   ]
  },
  {
   "cell_type": "code",
   "execution_count": 43,
   "metadata": {},
   "outputs": [],
   "source": [
    "#Total up the Sources and Sinks for each group\n",
    "\n",
    "got1 = g1_sourceW+g1_sourceC+g1_sinkW+g1_sinkC\n",
    "got2 = g2_sourceW+g2_sourceC+g2_sinkW+g2_sinkC\n",
    "got3 = g3_sourceW+g3_sourceC+g3_sinkW+g3_sinkC\n",
    "got4 = g4_sourceW+g4_sourceC+g4_sinkW+g4_sinkC\n",
    "got5 = g5_sourceW+g5_sourceC+g5_sinkW+g5_sinkC\n",
    "got6 = g6_sourceW+g6_sourceC+g6_sinkW+g6_sinkC"
   ]
  },
  {
   "cell_type": "code",
   "execution_count": 44,
   "metadata": {},
   "outputs": [
    {
     "name": "stdout",
     "output_type": "stream",
     "text": [
      "0.6018180015353122 1.2859428101679198 0.3900521686284545 0.5904385815154811\n"
     ]
    }
   ],
   "source": [
    "print(g1_sourceW,g1_sourceC,g1_sinkW,g1_sinkC)"
   ]
  },
  {
   "cell_type": "code",
   "execution_count": 45,
   "metadata": {},
   "outputs": [
    {
     "name": "stdout",
     "output_type": "stream",
     "text": [
      "4.769654561881277\n",
      "[1.3350690002129046, 0.9072700615592962, 0.00867294954667926, 0.03280769764364315, 0.04450999443753105, 0.21590209632178547, 0.10140631816770303]\n"
     ]
    }
   ],
   "source": [
    "\n",
    "all_tot = np.sum(all_sourceW)+np.sum(all_sourceC)+np.sum(all_sinksW)+np.sum(all_sinksC)\n",
    "print(all_tot)\n",
    "print(totals)"
   ]
  },
  {
   "cell_type": "code",
   "execution_count": 50,
   "metadata": {},
   "outputs": [
    {
     "data": {
      "image/png": "[encoded data removed]",
      "text/plain": [
       "<Figure size 1500x1000 with 1 Axes>"
      ]
     },
     "metadata": {},
     "output_type": "display_data"
    }
   ],
   "source": [
    "x=np.arange(0,7,1)\n",
    "width=0.15\n",
    "\n",
    "\n",
    "fig, ax = plt.subplots(1,1,figsize=(15,10))\n",
    "\n",
    "#Total\n",
    "ax.bar(0-2*width,all_sourceW/all_tot*100.,width=width,color='blue')\n",
    "ax.bar(0-width,all_sourceC/all_tot*100.,width=width,color='Firebrick')\n",
    "plt.bar(x,totals/np.sum(totals[1:])*100,width=width,label='Total', color='black')\n",
    "ax.bar(0+width,all_sinksW/all_tot*100.,width=width,color='lightblue',hatch='/')\n",
    "ax.bar(0+2*width,all_sinksC/all_tot*100.,width=width,color='lightcoral',hatch='/')\n",
    "f =1\n",
    "#sources\n",
    "ax.bar(f-2*width, g1_sourceW/got1*100, width=width, label='Cloud Water Collection', color='blue')\n",
    "\n",
    "ax.bar(f-width,g1_sourceC/got1*100, width=width,label='Melting', color ='Firebrick')\n",
    "\n",
    "ax.bar(f+width,g1_sinkW/got1*100, width=width, label='Evaporation', color='lightblue', hatch='/')\n",
    "\n",
    "ax.bar(f+2*width,g1_sinkC/got1*100, width=width, label='Freezing', color='lightcoral', hatch='/')\n",
    "\n",
    "\n",
    "f =2\n",
    "#sources\n",
    "ax.bar(f-2*width, g2_sourceW/got2*100, width=width, color='blue')\n",
    "\n",
    "ax.bar(f-width,g2_sourceC/got2*100, width=width,color ='Firebrick')\n",
    "\n",
    "ax.bar(f+width,g2_sinkW/got2*100, width=width,  color='lightblue', hatch='/')\n",
    "\n",
    "ax.bar(f+2*width,g2_sinkC/got2*100, width=width, color='lightcoral', hatch='/')\n",
    "\n",
    "\n",
    "f =3\n",
    "#sources\n",
    "ax.bar(f-2*width, g3_sourceW/got3*100, width=width, color='blue')\n",
    "\n",
    "ax.bar(f-width,g3_sourceC/got3*100, width=width,color ='Firebrick')\n",
    "\n",
    "ax.bar(f+width,g3_sinkW/got3*100, width=width,  color='lightblue', hatch='/')\n",
    "\n",
    "ax.bar(f+2*width,g3_sinkC/got3*100, width=width, color='lightcoral', hatch='/')\n",
    "\n",
    "\n",
    "f =4\n",
    "#sources\n",
    "ax.bar(f-2*width, g4_sourceW/got4*100, width=width, color='blue')\n",
    "\n",
    "ax.bar(f-width,g4_sourceC/got4*100, width=width,color ='Firebrick')\n",
    "\n",
    "ax.bar(f+width,g4_sinkW/got4*100, width=width,  color='lightblue', hatch='/')\n",
    "\n",
    "ax.bar(f+2*width,g4_sinkC/got4*100, width=width, color='lightcoral', hatch='/')\n",
    "\n",
    "\n",
    "f =5\n",
    "#sources\n",
    "ax.bar(f-2*width, g5_sourceW/got5*100, width=width, color='blue')\n",
    "\n",
    "ax.bar(f-width,g5_sourceC/got5*100, width=width,color ='Firebrick')\n",
    "\n",
    "ax.bar(f+width,g5_sinkW/got5*100, width=width,  color='lightblue', hatch='/')\n",
    "\n",
    "ax.bar(f+2*width,g5_sinkC/got5*100, width=width, color='lightcoral', hatch='/')\n",
    "\n",
    "\n",
    "f =6\n",
    "#sources\n",
    "ax.bar(f-2*width, g6_sourceW/got6*100, width=width, color='blue')\n",
    "\n",
    "ax.bar(f-width,g6_sourceC/got6*100, width=width,color ='Firebrick')\n",
    "\n",
    "ax.bar(f+width,g6_sinkW/got6*100, width=width,  color='lightblue', hatch='/')\n",
    "\n",
    "ax.bar(f+2*width,g6_sinkC/got6*100, width=width, color='lightcoral', hatch='/')\n",
    "\n",
    "\n",
    "\n",
    "\n",
    "ax.set_xticks(x)\n",
    "ax.set_xticklabels(['ALL','PG1', 'PG2', 'PG3', 'PG4',\n",
    "                       'PG5', 'PG6'])\n",
    "text=\"Hatching = sink, No Hatching = Source\"\n",
    "#ax2.legend(fontsize=30, frameon=True, fancybox=True, ncol=4, bbox_to_anchor=(0.5,-.2), \n",
    "#          loc='lower center', title=text, title_fontsize=40)\n",
    "\n",
    "\n",
    "fig.legend(fontsize=14, frameon=True, fancybox=True, ncol=5, bbox_to_anchor=(0.5,-.05), \n",
    "          loc='lower center', title=text, title_fontsize=20)\n",
    "\n",
    "ax.set_ylabel('Contribution to Rain (kg)', fontsize=20)\n",
    "ax.grid()\n",
    "ax.set_ylim(0,100)\n",
    "\n",
    "mu = int(nu)-1\n",
    "#plt.suptitle(f'Rain budget for Supercell $\\\\mu${mu} By group ',fontsize=20)\n",
    "plt.savefig(f'{fig_dir}RainBudget_supercell{nu}_eachgroup_{rthresh}_simple.png',dpi=400,bbox_inches='tight',facecolor='white')"
   ]
  },
  {
   "cell_type": "code",
   "execution_count": null,
   "metadata": {},
   "outputs": [],
   "source": []
  },
  {
   "cell_type": "code",
   "execution_count": null,
   "metadata": {},
   "outputs": [],
   "source": []
  },
  {
   "cell_type": "code",
   "execution_count": null,
   "metadata": {},
   "outputs": [],
   "source": []
  },
  {
   "cell_type": "code",
   "execution_count": null,
   "metadata": {},
   "outputs": [],
   "source": []
  }
 ],
 "metadata": {
  "kernelspec": {
   "display_name": "INCUS_model",
   "language": "python",
   "name": "incus_model"
  },
  "language_info": {
   "codemirror_mode": {
    "name": "ipython",
    "version": 3
   },
   "file_extension": ".py",
   "mimetype": "text/x-python",
   "name": "python",
   "nbconvert_exporter": "python",
   "pygments_lexer": "ipython3",
   "version": "3.11.4"
  }
 },
 "nbformat": 4,
 "nbformat_minor": 4
}
